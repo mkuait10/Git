{
 "cells": [
  {
   "cell_type": "markdown",
   "metadata": {},
   "source": [
    "## Git advanced commands"
   ]
  },
  {
   "cell_type": "raw",
   "metadata": {},
   "source": [
    "git init - Initilize local git repo.\n",
    "git add - Add files/directories to staging area.\n",
    "git remote add origin - Set origin (remote repo url) in the local repo.\n",
    "git log - View the log.\n",
    "git status - View the current modified status of files/directories.\n",
    "git push - Push committed changes to remote repo.\n",
    "git pull - Pull committed changes to remote repo.\n",
    "git clone - fetch from remote repo.\n"
   ]
  },
  {
   "cell_type": "raw",
   "metadata": {},
   "source": [
    "git reflog - View all commits that are or were referenced in your repo(remote as well as local).\n",
    "git show - View the last commit.\n",
    "git show uuid - view the uuid commit details.\n",
    "git commit - Move the added files from staging to committed.\n",
    "git config - View the config.\n",
    "git rm - remove a file/dir.\n",
    "git mv - move/rename a file/dir.\n"
   ]
  },
  {
   "cell_type": "raw",
   "metadata": {},
   "source": [
    "git reset\n",
    "git checkout - Checkout an existing branch.\n",
    "git clean - Removes untracked files.\n",
    "git revert - revert the commit based on commit id.\n",
    "git diff - show diff.\n",
    "git fetch - get the changes from remote but do not merge them.\n",
    "git merge - merge 2 branches.\n",
    "git cherry-pick \n",
    "git branch -d\n",
    "git remote add - Add origin as the remote github repo link. \n",
    "git init --bare"
   ]
  },
  {
   "cell_type": "markdown",
   "metadata": {},
   "source": [
    "### Git undoing"
   ]
  },
  {
   "cell_type": "markdown",
   "metadata": {},
   "source": [
    "- How to get rid of the untracked files from Working dir? <br/>\n",
    "    $git clean -f -d"
   ]
  },
  {
   "cell_type": "markdown",
   "metadata": {},
   "source": [
    "- How to move a file from staging area to working dir? <br/>\n",
    "$git reset filename"
   ]
  },
  {
   "cell_type": "markdown",
   "metadata": {},
   "source": [
    "- How to revert the change in git? <br/>\n",
    "$git revert commit-id"
   ]
  },
  {
   "cell_type": "markdown",
   "metadata": {},
   "source": [
    "- What is the diff between Git Pull vs Push vs Fetch? <br/>\n",
    "    Push - Push committed changes to remote. <br/>\n",
    "    Fetch - Fetch the code from remote but do not merge. <br/>\n",
    "    Pull - Fetch + merge together. <br/>"
   ]
  },
  {
   "cell_type": "markdown",
   "metadata": {},
   "source": [
    "### How to create a branch?"
   ]
  },
  {
   "cell_type": "raw",
   "metadata": {},
   "source": [
    "$git branch b1\n",
    "$git checkout b1     # switch to branch b1"
   ]
  },
  {
   "cell_type": "markdown",
   "metadata": {},
   "source": [
    "### Git conflict resolution ?"
   ]
  },
  {
   "cell_type": "code",
   "execution_count": null,
   "metadata": {},
   "outputs": [],
   "source": []
  },
  {
   "cell_type": "markdown",
   "metadata": {},
   "source": [
    "### Git Merging"
   ]
  },
  {
   "cell_type": "markdown",
   "metadata": {},
   "source": [
    "Fast Forward Merge\n",
    "3 Way merge - Recursive merge\n",
    "Cherry Picking"
   ]
  },
  {
   "cell_type": "markdown",
   "metadata": {},
   "source": [
    "###  Kind of Branches"
   ]
  },
  {
   "cell_type": "markdown",
   "metadata": {},
   "source": [
    "\n",
    "- LOCAL BRANCH\t\tREAD WRITE\n",
    "- REMOTE BRANCH\t\tREAD\n"
   ]
  },
  {
   "cell_type": "markdown",
   "metadata": {},
   "source": [
    "### What is HEAD?\n"
   ]
  },
  {
   "cell_type": "markdown",
   "metadata": {},
   "source": [
    "- git log HEAD\n",
    "- git show HEAD~\n",
    "- git show HEAD~"
   ]
  },
  {
   "cell_type": "markdown",
   "metadata": {},
   "source": [
    "### How to checkout older commits?"
   ]
  },
  {
   "cell_type": "markdown",
   "metadata": {},
   "source": [
    "$git checkout older-commits"
   ]
  },
  {
   "cell_type": "code",
   "execution_count": null,
   "metadata": {},
   "outputs": [],
   "source": [
    "How do we blame?\n",
    "How do stash it?\n",
    "How do you lock the branches?\n",
    "Git Tag"
   ]
  }
 ],
 "metadata": {
  "kernelspec": {
   "display_name": "Python 3",
   "language": "python",
   "name": "python3"
  },
  "language_info": {
   "codemirror_mode": {
    "name": "ipython",
    "version": 3
   },
   "file_extension": ".py",
   "mimetype": "text/x-python",
   "name": "python",
   "nbconvert_exporter": "python",
   "pygments_lexer": "ipython3",
   "version": "3.6.5"
  }
 },
 "nbformat": 4,
 "nbformat_minor": 2
}
