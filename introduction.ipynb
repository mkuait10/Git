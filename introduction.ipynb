{
 "cells": [
  {
   "cell_type": "markdown",
   "metadata": {},
   "source": [
    "### What is Git ?"
   ]
  },
  {
   "cell_type": "markdown",
   "metadata": {},
   "source": [
    "- Source Code management system\n",
    "- Distributed version control system\n",
    "- Open source / Free\n",
    "- Compatible with all OS"
   ]
  },
  {
   "cell_type": "markdown",
   "metadata": {},
   "source": [
    "### Why do we actually need any SCM, VCS, Git etc."
   ]
  },
  {
   "cell_type": "markdown",
   "metadata": {},
   "source": [
    "It tracks below change coordinates in any source code/repository.\n",
    "- Who\n",
    "- Where\n",
    "- When\n",
    "- What\n",
    "\n",
    "Basically it is used for versioning of the source code."
   ]
  },
  {
   "cell_type": "markdown",
   "metadata": {},
   "source": [
    "### What is the core architecture difference between Git vs SVN or CVS ?"
   ]
  },
  {
   "cell_type": "markdown",
   "metadata": {},
   "source": [
    "- SVN/CVS - Have all the versions stored on the common remote repo where all developers use to push/pull code from.\n",
    "            Hence they are called Version Control System.\n",
    "            Each branch have their own copy of files from master, hence increasing the size of repo.\n",
    "- Git - Every developer's working copy of the code is also a repository that can contain the full history of all changes.\n",
    "        Hence it is called as Distributed Version Control System.\n",
    "        Each branch have only the difference of files from master, hence decreasing the size of repo."
   ]
  },
  {
   "cell_type": "markdown",
   "metadata": {},
   "source": [
    "### How to install ?"
   ]
  },
  {
   "cell_type": "markdown",
   "metadata": {},
   "source": [
    "- WINDOWS - download from https://git-scm.com/downloads (.exe) and install\n",
    "- LINUX - RHEL > sudo yum install git\n",
    "- LINUX - UBUNTU > sudo apt-get install git\n",
    "- MAC - Download from https://git-scm.com/downloads (.dmg) and install"
   ]
  },
  {
   "cell_type": "markdown",
   "metadata": {},
   "source": [
    "### How to verify installation ?"
   ]
  },
  {
   "cell_type": "markdown",
   "metadata": {},
   "source": [
    "In windows open git bash, for other OS open a terminal.\n",
    "- How to verify? <br/>\n",
    "  $ git\n",
    "\n",
    "- How to know the git version?  <br/>\n",
    "  $ git --version"
   ]
  },
  {
   "cell_type": "markdown",
   "metadata": {},
   "source": [
    "### What is the basic workflow diff between SVN and Git ?"
   ]
  },
  {
   "cell_type": "markdown",
   "metadata": {},
   "source": [
    "SVN:\n",
    "-   Fetch/Copy from remote repo (Files get copied to local repo).\n",
    "-   Make desired changes in workspace.\n",
    "-  Commit to server.\n",
    "\n",
    "Git:\n",
    "- Fetch/Copy from remote repo (Files get copied to local repo).\n",
    "- Make desired changes in workspace.\n",
    "- Commit to local repo.\n",
    "- Push changes to server\n",
    "\n",
    "So in Git, until the developer push the changes, it is not sent to remote repo."
   ]
  },
  {
   "cell_type": "markdown",
   "metadata": {},
   "source": [
    "### What is .gitignore file ?"
   ]
  },
  {
   "cell_type": "markdown",
   "metadata": {},
   "source": [
    "It's a file where we specify what files to be ignored while commiting to repo. <br/>\n",
    "e.g - <br/>\n",
    "*.pyc <br/>\n",
    ".idea <br/>\n",
    "__pycache__ <br/>\n",
    "/repo/env_settings.py <br/>"
   ]
  }
 ],
 "metadata": {
  "kernelspec": {
   "display_name": "Python 3",
   "language": "python",
   "name": "python3"
  },
  "language_info": {
   "codemirror_mode": {
    "name": "ipython",
    "version": 3
   },
   "file_extension": ".py",
   "mimetype": "text/x-python",
   "name": "python",
   "nbconvert_exporter": "python",
   "pygments_lexer": "ipython3",
   "version": "3.6.5"
  }
 },
 "nbformat": 4,
 "nbformat_minor": 2
}
