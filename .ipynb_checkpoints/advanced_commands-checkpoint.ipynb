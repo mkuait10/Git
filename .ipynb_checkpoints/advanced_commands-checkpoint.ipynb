{
 "cells": [
  {
   "cell_type": "markdown",
   "metadata": {},
   "source": [
    "## Git advanced commands"
   ]
  },
  {
   "cell_type": "markdown",
   "metadata": {},
   "source": [
    "- git init - Initilize local git repo.\n",
    "- git add - Add files/directories to staging area.\n",
    "- git remote add origin - Set origin (remote repo url) in the local repo.\n",
    "- git log - View the log.\n",
    "- git status - View the current modified status of files/directories.\n",
    "- git push - Push committed changes to remote repo.\n",
    "- git pull - Pull committed changes to remote repo.\n",
    "- git clone - fetch from remote repo.\n"
   ]
  },
  {
   "cell_type": "markdown",
   "metadata": {},
   "source": [
    "- git reflog - View all commits that are or were referenced in your repo(remote as well as local).\n",
    "- git show - View the last commit.\n",
    "- git show uuid - view the uuid commit details.\n",
    "- git commit - Move the added files from staging to committed.\n",
    "- git config - View the config.\n",
    "- git rm - remove a file/dir.\n",
    "- git mv - move/rename a file/dir.\n"
   ]
  },
  {
   "cell_type": "markdown",
   "metadata": {},
   "source": [
    "- git reset\n",
    "- git checkout - Checkout an existing branch.\n",
    "- git clean - Removes untracked files.\n",
    "- git revert - revert the commit based on commit id.\n",
    "- git diff - show diff.\n",
    "- git fetch - get the changes from remote but do not merge them.\n",
    "- git merge - merge 2 branches.\n",
    "- git cherry-pick \n",
    "- git branch -d\n",
    "- git remote add - Add origin as the remote github repo link. \n",
    "- git init --bare"
   ]
  },
  {
   "cell_type": "markdown",
   "metadata": {},
   "source": [
    "### Git undoing"
   ]
  },
  {
   "cell_type": "markdown",
   "metadata": {},
   "source": [
    "- How to get rid of the untracked files from Working dir? <br/>\n",
    "    $git clean -f -d"
   ]
  },
  {
   "cell_type": "markdown",
   "metadata": {},
   "source": [
    "- How to move a file from staging area to working dir? <br/>\n",
    "$git reset filename"
   ]
  },
  {
   "cell_type": "markdown",
   "metadata": {},
   "source": [
    "- How to revert the change in git? <br/>\n",
    "$git revert commit-id"
   ]
  },
  {
   "cell_type": "markdown",
   "metadata": {},
   "source": [
    "- What is the diff between Git Pull vs Push vs Fetch? <br/>\n",
    "    Push - Push committed changes to remote. <br/>\n",
    "    Fetch - Fetch the code from remote but do not merge. <br/>\n",
    "    Pull - Fetch + merge together. <br/>"
   ]
  },
  {
   "cell_type": "markdown",
   "metadata": {},
   "source": [
    "### How to create a branch?"
   ]
  },
  {
   "cell_type": "raw",
   "metadata": {},
   "source": [
    "$git branch b1\n",
    "$git checkout b1     # switch to branch b1"
   ]
  },
  {
   "cell_type": "markdown",
   "metadata": {},
   "source": [
    "### Git conflict resolution ?\n",
    " - While merging there are conflicts with other developers changes\n",
    " - Open the file and do resolution, also talk to them of their changes."
   ]
  },
  {
   "cell_type": "markdown",
   "metadata": {},
   "source": [
    "### Git Merging"
   ]
  },
  {
   "cell_type": "markdown",
   "metadata": {},
   "source": [
    "- Fast Forward Merge\n",
    "  - When your branch is just ahead of master. Simple merge is needed.\n",
    "- 3 Way merge - Recursive merge\n",
    "  - Most common case and typically 3 snapshots are used while merging from other branch. \n",
    "  - Happens when your local branch (b1) is ahead of master and master has also moved further due to another branch (b2) merge.\n",
    "- Cherry Picking\n",
    "  - Only select specific change from a commit history from other branches\n",
    "    - git checkout master\n",
    "    - git cherry-pick commit-hash"
   ]
  },
  {
   "cell_type": "markdown",
   "metadata": {},
   "source": [
    "###  Kind of Branches"
   ]
  },
  {
   "cell_type": "markdown",
   "metadata": {},
   "source": [
    "\n",
    "- LOCAL BRANCH\t\tREAD WRITE\n",
    "- REMOTE BRANCH\t\tREAD\n"
   ]
  },
  {
   "cell_type": "markdown",
   "metadata": {},
   "source": [
    "### What is HEAD?\n",
    "- HEAD is a reference to the last commit in the currently check-out branch.\n"
   ]
  },
  {
   "cell_type": "markdown",
   "metadata": {},
   "source": [
    "- git log HEAD\n",
    "- git show HEAD~\n",
    "- git show HEAD~"
   ]
  },
  {
   "cell_type": "markdown",
   "metadata": {},
   "source": [
    "### How to checkout older commits?"
   ]
  },
  {
   "cell_type": "markdown",
   "metadata": {},
   "source": [
    "$git checkout older-commits"
   ]
  },
  {
   "cell_type": "markdown",
   "metadata": {},
   "source": [
    "### How do we blame?\n",
    " - Mainly shows the author who all have done the changes to a file.\n",
    "      - git blame models.py \n",
    "      \n",
    "### How do stash it?\n",
    " - Just stash your changes and start working on clean branch.\n",
    "    - git stash\n",
    "    - git stash apply\n",
    "    - git stash pop # delete the stash\n",
    "\n",
    "### How do you lock the branches?\n",
    " - Can be done from UI.\n",
    "\n",
    "\n",
    "### Git Tag\n",
    "\n",
    " - points in a repository’s history as being important. it’s just a pointer to a specific commit.\n",
    " - Doesn't change unlike branches. \n",
    "   - git tag first-tag  # create\n",
    "   - git tag  # view tags\n",
    "  \n"
   ]
  }
 ],
 "metadata": {
  "kernelspec": {
   "display_name": "Python 3",
   "language": "python",
   "name": "python3"
  },
  "language_info": {
   "codemirror_mode": {
    "name": "ipython",
    "version": 3
   },
   "file_extension": ".py",
   "mimetype": "text/x-python",
   "name": "python",
   "nbconvert_exporter": "python",
   "pygments_lexer": "ipython3",
   "version": "3.6.5"
  }
 },
 "nbformat": 4,
 "nbformat_minor": 2
}
