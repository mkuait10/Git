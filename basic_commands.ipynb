{
 "cells": [
  {
   "cell_type": "markdown",
   "metadata": {},
   "source": [
    "### How to start working?"
   ]
  },
  {
   "cell_type": "markdown",
   "metadata": {},
   "source": [
    "- STEP 1: You need to have a repository. So create one. <br/>\n",
    "           $ cd C: #Go to C Drive\n",
    "           $ mkdir workspace #Create a dir name\n",
    "           $ cd workspace #Get inside a git-repo\n",
    "           $ mkdir GitLearning #create a GitLearning directory\n",
    "           $ cd GitLearning \n",
    "           $ git init\n",
    "    \n",
    "- STEP 2: Add a file. <br/>\n",
    "          Create  a file say utils.py and add few lines of code. <br/>\n",
    "          $git status\n",
    "          terminal will show utils.py untracked file present. \n",
    "          $git add utils.py\n",
    "          Now utils.py is present in the staging area and it is not committed yet.\n",
    "\n",
    "- STEP 3: Provide Git basic info, who are you before the commit. This is one time activity. <br/>\n",
    "         $git config --list \n",
    "         Check the default values before setting them.\n",
    "         $git config user.name \"Mihir Kumar\" \n",
    "         $git config user.email \"MihirKumar@gmail.com\"\n",
    "\n",
    "- STEP 4: How to commit? <br/>\n",
    "          $git commit -m \"This is my first commit of utils\" \n",
    "          Do some modification to the file and follow step 2 and 4 again. \n",
    "          $git commit -m \"Second commit\" \n",
    "          Note: File has been committed to the local repo only.\n",
    "    \n",
    "- STEP 5 - How to see number of commits? <br/>\n",
    "           $git log \n",
    "           This will show you all commit checksum uuid, author, date and commit message.\n",
    "    \n",
    "- STEP 6 - How to know the status of working dir? <br/>\n",
    "           $git status    \n"
   ]
  },
  {
   "cell_type": "markdown",
   "metadata": {},
   "source": [
    "- How to view the one line log messages ? <br/>\n",
    "    $git log --oneline"
   ]
  },
  {
   "cell_type": "markdown",
   "metadata": {},
   "source": [
    "-  How to view a particular diff ? <br/>\n",
    "    $git show < checksum uuid >"
   ]
  },
  {
   "cell_type": "markdown",
   "metadata": {},
   "source": [
    "- How to view all commits that are or were referenced in your repo ? <br/>\n",
    "    $git reflog utils.py"
   ]
  },
  {
   "cell_type": "markdown",
   "metadata": {},
   "source": [
    "- How to add all files ? <br/>\n",
    "    $git add ."
   ]
  },
  {
   "cell_type": "markdown",
   "metadata": {},
   "source": [
    "- How to add a directory ? <br/>\n",
    "  same as file"
   ]
  },
  {
   "cell_type": "markdown",
   "metadata": {},
   "source": [
    "- How to rename the files/directory? <br/>\n",
    "    $git mv utils.py utility.py  <br/>\n",
    "    After that we have to add and commit it."
   ]
  },
  {
   "cell_type": "markdown",
   "metadata": {},
   "source": [
    "- How to move a files/directory to a directory say 'common' ? <br/>\n",
    "    $git mv utility.py common/ <br/>\n",
    "    After that we have to add and commit it."
   ]
  },
  {
   "cell_type": "markdown",
   "metadata": {},
   "source": [
    "- How to delete a file/directory ? <br/>\n",
    "    $git rm common/utility.py <br/>\n",
    "    After that we have to add and commit it."
   ]
  },
  {
   "cell_type": "markdown",
   "metadata": {},
   "source": [
    "### How to work with remote or master repo (using github) ?"
   ]
  },
  {
   "cell_type": "markdown",
   "metadata": {},
   "source": [
    " - Approach 1: Create corresponding remote repo in github.<br/>\n",
    "              $git remote add origin https://github.com/mkuait10/GitLearning.git\n",
    "              $git pull origin master --allow-unrelated-histories\n",
    "              $git merge origin origin/master\n",
    "              ... add and commit here to the local repo...\n",
    "              $git push origin master\n",
    "    \n",
    "- Approach 2: Create a new remote repo in github. <br/>\n",
    "              $git clone https://github.com/mkuait10/GitLearning.git\n",
    "              This will clone your remote repo to local.\n",
    "              Now start adding modules and commit to local repo and push."
   ]
  },
  {
   "cell_type": "markdown",
   "metadata": {},
   "source": [
    "### What is the full description of the clone?"
   ]
  },
  {
   "cell_type": "markdown",
   "metadata": {},
   "source": [
    "1. git init\n",
    "2. git remote add\n",
    "3. git pull "
   ]
  },
  {
   "cell_type": "markdown",
   "metadata": {},
   "source": [
    "### What is origin ?"
   ]
  },
  {
   "cell_type": "markdown",
   "metadata": {},
   "source": [
    "origin is the url link (e.g - https://github.com/mkuait10/GitLearning.git) which is set on the local repo."
   ]
  }
 ],
 "metadata": {
  "kernelspec": {
   "display_name": "Python 3",
   "language": "python",
   "name": "python3"
  },
  "language_info": {
   "codemirror_mode": {
    "name": "ipython",
    "version": 3
   },
   "file_extension": ".py",
   "mimetype": "text/x-python",
   "name": "python",
   "nbconvert_exporter": "python",
   "pygments_lexer": "ipython3",
   "version": "3.6.5"
  }
 },
 "nbformat": 4,
 "nbformat_minor": 2
}
